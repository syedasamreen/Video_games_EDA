{
 "cells": [
  {
   "cell_type": "code",
   "execution_count": 1,
   "id": "fe5f149f",
   "metadata": {},
   "outputs": [],
   "source": [
    "import pandas as pd\n",
    "import numpy as np\n",
    "import matplotlib.pyplot as plt\n",
    "import seaborn"
   ]
  },
  {
   "cell_type": "code",
   "execution_count": 103,
   "id": "0132708f",
   "metadata": {},
   "outputs": [
    {
     "name": "stdout",
     "output_type": "stream",
     "text": [
      "                       Name Platform  Year_of_Release         Genre Publisher  \\\n",
      "0                Wii Sports      Wii           2006.0        Sports  Nintendo   \n",
      "1         Super Mario Bros.      NES           1985.0      Platform  Nintendo   \n",
      "2            Mario Kart Wii      Wii           2008.0        Racing  Nintendo   \n",
      "3         Wii Sports Resort      Wii           2009.0        Sports  Nintendo   \n",
      "4  Pokemon Red/Pokemon Blue       GB           1996.0  Role-Playing  Nintendo   \n",
      "\n",
      "   NA_Sales  EU_Sales  JP_Sales  Other_Sales  Global_Sales  Critic_Score  \\\n",
      "0     41.36     28.96      3.77         8.45         82.53          76.0   \n",
      "1     29.08      3.58      6.81         0.77         40.24           NaN   \n",
      "2     15.68     12.76      3.79         3.29         35.52          82.0   \n",
      "3     15.61     10.93      3.28         2.95         32.77          80.0   \n",
      "4     11.27      8.89     10.22         1.00         31.37           NaN   \n",
      "\n",
      "   Critic_Count User_Score  User_Count Developer Rating  \n",
      "0          51.0          8       322.0  Nintendo      E  \n",
      "1           NaN        NaN         NaN       NaN    NaN  \n",
      "2          73.0        8.3       709.0  Nintendo      E  \n",
      "3          73.0          8       192.0  Nintendo      E  \n",
      "4           NaN        NaN         NaN       NaN    NaN  \n"
     ]
    }
   ],
   "source": [
    "VDG_df = pd.read_csv(r\"C:\\Users\\excel\\Downloads\\Video_Games_Sales.csv\")\n",
    "print(VDG_df.head(5))"
   ]
  },
  {
   "cell_type": "code",
   "execution_count": 3,
   "id": "972f3884",
   "metadata": {},
   "outputs": [
    {
     "name": "stdout",
     "output_type": "stream",
     "text": [
      "<class 'pandas.core.frame.DataFrame'>\n",
      "RangeIndex: 16719 entries, 0 to 16718\n",
      "Data columns (total 16 columns):\n",
      " #   Column           Non-Null Count  Dtype  \n",
      "---  ------           --------------  -----  \n",
      " 0   Name             16717 non-null  object \n",
      " 1   Platform         16719 non-null  object \n",
      " 2   Year_of_Release  16450 non-null  float64\n",
      " 3   Genre            16717 non-null  object \n",
      " 4   Publisher        16665 non-null  object \n",
      " 5   NA_Sales         16719 non-null  float64\n",
      " 6   EU_Sales         16719 non-null  float64\n",
      " 7   JP_Sales         16719 non-null  float64\n",
      " 8   Other_Sales      16719 non-null  float64\n",
      " 9   Global_Sales     16719 non-null  float64\n",
      " 10  Critic_Score     8137 non-null   float64\n",
      " 11  Critic_Count     8137 non-null   float64\n",
      " 12  User_Score       10015 non-null  object \n",
      " 13  User_Count       7590 non-null   float64\n",
      " 14  Developer        10096 non-null  object \n",
      " 15  Rating           9950 non-null   object \n",
      "dtypes: float64(9), object(7)\n",
      "memory usage: 2.0+ MB\n"
     ]
    }
   ],
   "source": [
    "VDG_df.info()"
   ]
  },
  {
   "cell_type": "code",
   "execution_count": 78,
   "id": "4a55f38b",
   "metadata": {},
   "outputs": [],
   "source": []
  },
  {
   "cell_type": "code",
   "execution_count": 84,
   "id": "10b0947d",
   "metadata": {},
   "outputs": [
    {
     "data": {
      "text/plain": [
       "0          8\n",
       "1          8\n",
       "2        8.3\n",
       "3          8\n",
       "4          8\n",
       "        ... \n",
       "16714      0\n",
       "16715      0\n",
       "16716      0\n",
       "16717      0\n",
       "16718      0\n",
       "Name: User_Score, Length: 16719, dtype: object"
      ]
     },
     "execution_count": 84,
     "metadata": {},
     "output_type": "execute_result"
    }
   ],
   "source": []
  },
  {
   "cell_type": "code",
   "execution_count": 99,
   "id": "e99310a5",
   "metadata": {},
   "outputs": [
    {
     "ename": "AttributeError",
     "evalue": "'list' object has no attribute 'sum'",
     "output_type": "error",
     "traceback": [
      "\u001b[1;31m---------------------------------------------------------------------------\u001b[0m",
      "\u001b[1;31mAttributeError\u001b[0m                            Traceback (most recent call last)",
      "Cell \u001b[1;32mIn[99], line 1\u001b[0m\n\u001b[1;32m----> 1\u001b[0m [VDG_df[\u001b[38;5;124m'\u001b[39m\u001b[38;5;124mUser_Score\u001b[39m\u001b[38;5;124m'\u001b[39m]\u001b[38;5;241m==\u001b[39m\u001b[38;5;241m1\u001b[39m]\u001b[38;5;241m.\u001b[39msum()\n",
      "\u001b[1;31mAttributeError\u001b[0m: 'list' object has no attribute 'sum'"
     ]
    }
   ],
   "source": [
    "[VDG_df['User_Score']==1].sum()"
   ]
  },
  {
   "cell_type": "code",
   "execution_count": 10,
   "id": "e30583c7",
   "metadata": {},
   "outputs": [
    {
     "name": "stdout",
     "output_type": "stream",
     "text": [
      "Name missing 2\n",
      "missing year 269\n",
      "Genre missing 2\n",
      "missing Publisher 54\n",
      "missing Critic_Score 8582\n",
      "Critic_Count missing 8582\n",
      "missing User_Score 6704\n",
      "User_Count missing 9129\n",
      "missing Developer 6623\n",
      "Rating missing 6769\n"
     ]
    }
   ],
   "source": [
    "print('Name missing', VDG_df['Name'].isna().sum())\n",
    "print('missing year',VDG_df['Year_of_Release'].isna().sum())\n",
    "print('Genre missing', VDG_df['Genre'].isna().sum())\n",
    "print('missing Publisher',VDG_df['Publisher'].isna().sum())\n",
    "print('missing Critic_Score',VDG_df['Critic_Score'].isna().sum())\n",
    "print('Critic_Count missing', VDG_df['Critic_Count'].isna().sum())\n",
    "print('missing User_Score',VDG_df['User_Score'].isna().sum())\n",
    "print('User_Count missing', VDG_df['User_Count'].isna().sum())\n",
    "print('missing Developer',VDG_df['Developer'].isna().sum())\n",
    "print('Rating missing', VDG_df['Rating'].isna().sum())"
   ]
  },
  {
   "cell_type": "code",
   "execution_count": 104,
   "id": "60b118d6",
   "metadata": {},
   "outputs": [],
   "source": [
    "# Dropping missing value in Name column\n",
    "VDG_df['Year_of_Release'] = VDG_df['Year_of_Release'].fillna(method = 'bfill')"
   ]
  },
  {
   "cell_type": "code",
   "execution_count": 105,
   "id": "8b2fe485",
   "metadata": {},
   "outputs": [
    {
     "name": "stdout",
     "output_type": "stream",
     "text": [
      "<class 'pandas.core.frame.DataFrame'>\n",
      "RangeIndex: 16719 entries, 0 to 16718\n",
      "Data columns (total 16 columns):\n",
      " #   Column           Non-Null Count  Dtype  \n",
      "---  ------           --------------  -----  \n",
      " 0   Name             16717 non-null  object \n",
      " 1   Platform         16719 non-null  object \n",
      " 2   Year_of_Release  16719 non-null  float64\n",
      " 3   Genre            16717 non-null  object \n",
      " 4   Publisher        16665 non-null  object \n",
      " 5   NA_Sales         16719 non-null  float64\n",
      " 6   EU_Sales         16719 non-null  float64\n",
      " 7   JP_Sales         16719 non-null  float64\n",
      " 8   Other_Sales      16719 non-null  float64\n",
      " 9   Global_Sales     16719 non-null  float64\n",
      " 10  Critic_Score     8137 non-null   float64\n",
      " 11  Critic_Count     8137 non-null   float64\n",
      " 12  User_Score       10015 non-null  object \n",
      " 13  User_Count       7590 non-null   float64\n",
      " 14  Developer        10096 non-null  object \n",
      " 15  Rating           9950 non-null   object \n",
      "dtypes: float64(9), object(7)\n",
      "memory usage: 2.0+ MB\n"
     ]
    }
   ],
   "source": [
    "VDG_df.info()"
   ]
  },
  {
   "cell_type": "code",
   "execution_count": 106,
   "id": "3a152787",
   "metadata": {},
   "outputs": [],
   "source": [
    "VDG_df['Year_of_Release'] = VDG_df['Year_of_Release'].astype(int)"
   ]
  },
  {
   "cell_type": "code",
   "execution_count": 36,
   "id": "31992f65",
   "metadata": {},
   "outputs": [],
   "source": []
  },
  {
   "cell_type": "code",
   "execution_count": 42,
   "id": "55676c8b",
   "metadata": {},
   "outputs": [
    {
     "data": {
      "text/html": [
       "<div>\n",
       "<style scoped>\n",
       "    .dataframe tbody tr th:only-of-type {\n",
       "        vertical-align: middle;\n",
       "    }\n",
       "\n",
       "    .dataframe tbody tr th {\n",
       "        vertical-align: top;\n",
       "    }\n",
       "\n",
       "    .dataframe thead th {\n",
       "        text-align: right;\n",
       "    }\n",
       "</style>\n",
       "<table border=\"1\" class=\"dataframe\">\n",
       "  <thead>\n",
       "    <tr style=\"text-align: right;\">\n",
       "      <th></th>\n",
       "      <th>Name</th>\n",
       "      <th>Platform</th>\n",
       "      <th>Year_of_Release</th>\n",
       "      <th>Genre</th>\n",
       "      <th>Publisher</th>\n",
       "      <th>NA_Sales</th>\n",
       "      <th>EU_Sales</th>\n",
       "      <th>JP_Sales</th>\n",
       "      <th>Other_Sales</th>\n",
       "      <th>Global_Sales</th>\n",
       "      <th>Critic_Score</th>\n",
       "      <th>Critic_Count</th>\n",
       "      <th>User_Score</th>\n",
       "      <th>User_Count</th>\n",
       "      <th>Developer</th>\n",
       "      <th>Rating</th>\n",
       "    </tr>\n",
       "  </thead>\n",
       "  <tbody>\n",
       "    <tr>\n",
       "      <th>0</th>\n",
       "      <td>Wii Sports</td>\n",
       "      <td>Wii</td>\n",
       "      <td>2006</td>\n",
       "      <td>Sports</td>\n",
       "      <td>Nintendo</td>\n",
       "      <td>41.36</td>\n",
       "      <td>28.96</td>\n",
       "      <td>3.77</td>\n",
       "      <td>8.45</td>\n",
       "      <td>82.53</td>\n",
       "      <td>76.0</td>\n",
       "      <td>51.0</td>\n",
       "      <td>8</td>\n",
       "      <td>322.0</td>\n",
       "      <td>Nintendo</td>\n",
       "      <td>E</td>\n",
       "    </tr>\n",
       "    <tr>\n",
       "      <th>1</th>\n",
       "      <td>Super Mario Bros.</td>\n",
       "      <td>NES</td>\n",
       "      <td>1985</td>\n",
       "      <td>Platform</td>\n",
       "      <td>Nintendo</td>\n",
       "      <td>29.08</td>\n",
       "      <td>3.58</td>\n",
       "      <td>6.81</td>\n",
       "      <td>0.77</td>\n",
       "      <td>40.24</td>\n",
       "      <td>NaN</td>\n",
       "      <td>NaN</td>\n",
       "      <td>NaN</td>\n",
       "      <td>NaN</td>\n",
       "      <td>NaN</td>\n",
       "      <td>NaN</td>\n",
       "    </tr>\n",
       "    <tr>\n",
       "      <th>2</th>\n",
       "      <td>Mario Kart Wii</td>\n",
       "      <td>Wii</td>\n",
       "      <td>2008</td>\n",
       "      <td>Racing</td>\n",
       "      <td>Nintendo</td>\n",
       "      <td>15.68</td>\n",
       "      <td>12.76</td>\n",
       "      <td>3.79</td>\n",
       "      <td>3.29</td>\n",
       "      <td>35.52</td>\n",
       "      <td>82.0</td>\n",
       "      <td>73.0</td>\n",
       "      <td>8.3</td>\n",
       "      <td>709.0</td>\n",
       "      <td>Nintendo</td>\n",
       "      <td>E</td>\n",
       "    </tr>\n",
       "    <tr>\n",
       "      <th>3</th>\n",
       "      <td>Wii Sports Resort</td>\n",
       "      <td>Wii</td>\n",
       "      <td>2009</td>\n",
       "      <td>Sports</td>\n",
       "      <td>Nintendo</td>\n",
       "      <td>15.61</td>\n",
       "      <td>10.93</td>\n",
       "      <td>3.28</td>\n",
       "      <td>2.95</td>\n",
       "      <td>32.77</td>\n",
       "      <td>80.0</td>\n",
       "      <td>73.0</td>\n",
       "      <td>8</td>\n",
       "      <td>192.0</td>\n",
       "      <td>Nintendo</td>\n",
       "      <td>E</td>\n",
       "    </tr>\n",
       "    <tr>\n",
       "      <th>4</th>\n",
       "      <td>Pokemon Red/Pokemon Blue</td>\n",
       "      <td>GB</td>\n",
       "      <td>1996</td>\n",
       "      <td>Role-Playing</td>\n",
       "      <td>Nintendo</td>\n",
       "      <td>11.27</td>\n",
       "      <td>8.89</td>\n",
       "      <td>10.22</td>\n",
       "      <td>1.00</td>\n",
       "      <td>31.37</td>\n",
       "      <td>NaN</td>\n",
       "      <td>NaN</td>\n",
       "      <td>NaN</td>\n",
       "      <td>NaN</td>\n",
       "      <td>NaN</td>\n",
       "      <td>NaN</td>\n",
       "    </tr>\n",
       "  </tbody>\n",
       "</table>\n",
       "</div>"
      ],
      "text/plain": [
       "                       Name Platform  Year_of_Release         Genre Publisher  \\\n",
       "0                Wii Sports      Wii             2006        Sports  Nintendo   \n",
       "1         Super Mario Bros.      NES             1985      Platform  Nintendo   \n",
       "2            Mario Kart Wii      Wii             2008        Racing  Nintendo   \n",
       "3         Wii Sports Resort      Wii             2009        Sports  Nintendo   \n",
       "4  Pokemon Red/Pokemon Blue       GB             1996  Role-Playing  Nintendo   \n",
       "\n",
       "   NA_Sales  EU_Sales  JP_Sales  Other_Sales  Global_Sales  Critic_Score  \\\n",
       "0     41.36     28.96      3.77         8.45         82.53          76.0   \n",
       "1     29.08      3.58      6.81         0.77         40.24           NaN   \n",
       "2     15.68     12.76      3.79         3.29         35.52          82.0   \n",
       "3     15.61     10.93      3.28         2.95         32.77          80.0   \n",
       "4     11.27      8.89     10.22         1.00         31.37           NaN   \n",
       "\n",
       "   Critic_Count User_Score  User_Count Developer Rating  \n",
       "0          51.0          8       322.0  Nintendo      E  \n",
       "1           NaN        NaN         NaN       NaN    NaN  \n",
       "2          73.0        8.3       709.0  Nintendo      E  \n",
       "3          73.0          8       192.0  Nintendo      E  \n",
       "4           NaN        NaN         NaN       NaN    NaN  "
      ]
     },
     "execution_count": 42,
     "metadata": {},
     "output_type": "execute_result"
    }
   ],
   "source": [
    "VDG_df.head(5)"
   ]
  },
  {
   "cell_type": "code",
   "execution_count": 107,
   "id": "95857b40",
   "metadata": {},
   "outputs": [
    {
     "name": "stdout",
     "output_type": "stream",
     "text": [
      "26.36\n",
      "68.97\n",
      "162.23\n",
      "0    E\n",
      "Name: Rating, dtype: object\n"
     ]
    }
   ],
   "source": [
    "CC_mean = round(VDG_df['Critic_Count'].mean(),2)\n",
    "CS_mean = round(VDG_df['Critic_Score'].mean(),2)\n",
    "UC_mean = round(VDG_df['User_Count'].mean(),2)\n",
    "\n",
    "Rt_mode = VDG_df['Rating'].mode()\n",
    "print(CC_mean)\n",
    "print(CS_mean)\n",
    "print(UC_mean)\n",
    "\n",
    "print(Rt_mode)"
   ]
  },
  {
   "cell_type": "code",
   "execution_count": 108,
   "id": "e912c575",
   "metadata": {},
   "outputs": [],
   "source": [
    "# Dropping missing value in Name column\n",
    "VDG_df['Critic_Count'] = VDG_df['Critic_Count'].fillna(CC_mean)\n",
    "VDG_df['Critic_Score'] = VDG_df['Critic_Score'].fillna(CS_mean)\n",
    "VDG_df['User_Count'] = VDG_df['User_Count'].fillna(UC_mean)\n",
    "VDG_df['Rating'] = VDG_df['Rating'].fillna(Rt_mode)\n"
   ]
  },
  {
   "cell_type": "code",
   "execution_count": 128,
   "id": "061a4003",
   "metadata": {},
   "outputs": [
    {
     "name": "stdout",
     "output_type": "stream",
     "text": [
      "<class 'pandas.core.series.Series'>\n",
      "RangeIndex: 16719 entries, 0 to 16718\n",
      "Series name: Rating\n",
      "Non-Null Count  Dtype \n",
      "--------------  ----- \n",
      "9950 non-null   object\n",
      "dtypes: object(1)\n",
      "memory usage: 130.7+ KB\n"
     ]
    }
   ],
   "source": [
    "VDG_df['Rating'].info()"
   ]
  },
  {
   "cell_type": "code",
   "execution_count": 119,
   "id": "6f86891e",
   "metadata": {},
   "outputs": [
    {
     "name": "stdout",
     "output_type": "stream",
     "text": [
      "0    0\n",
      "Name: User_Score, dtype: object\n"
     ]
    }
   ],
   "source": [
    "US_mode = VDG_df['User_Score'].mode()\n",
    "print(US_mode)"
   ]
  },
  {
   "cell_type": "code",
   "execution_count": 120,
   "id": "600d1a64",
   "metadata": {},
   "outputs": [],
   "source": [
    "VDG_df['User_Score'] = VDG_df['User_Score'].fillna(US_mode)"
   ]
  },
  {
   "cell_type": "code",
   "execution_count": 115,
   "id": "a273ef9c",
   "metadata": {},
   "outputs": [],
   "source": [
    "VDG_df['User_Score'] = VDG_df['User_Score'].replace('tbd',0)\n"
   ]
  },
  {
   "cell_type": "code",
   "execution_count": 144,
   "id": "e023710d",
   "metadata": {},
   "outputs": [
    {
     "name": "stderr",
     "output_type": "stream",
     "text": [
      "C:\\Users\\excel\\AppData\\Local\\Temp\\ipykernel_27008\\766270685.py:1: SettingWithCopyWarning: \n",
      "A value is trying to be set on a copy of a slice from a DataFrame.\n",
      "Try using .loc[row_indexer,col_indexer] = value instead\n",
      "\n",
      "See the caveats in the documentation: https://pandas.pydata.org/pandas-docs/stable/user_guide/indexing.html#returning-a-view-versus-a-copy\n",
      "  VDG_df['User_Score'] = VDG_df['User_Score'].replace('8.3',8.3)\n"
     ]
    }
   ],
   "source": [
    "# VDG_df['User_Score'] = VDG_df['User_Score'].replace('8.3',8.3)\n"
   ]
  },
  {
   "cell_type": "code",
   "execution_count": 149,
   "id": "2c036276",
   "metadata": {},
   "outputs": [
    {
     "ename": "TypeError",
     "evalue": "'Int64Index' object is not callable",
     "output_type": "error",
     "traceback": [
      "\u001b[1;31m---------------------------------------------------------------------------\u001b[0m",
      "\u001b[1;31mTypeError\u001b[0m                                 Traceback (most recent call last)",
      "Cell \u001b[1;32mIn[149], line 1\u001b[0m\n\u001b[1;32m----> 1\u001b[0m VDG_df[\u001b[38;5;124m'\u001b[39m\u001b[38;5;124mUser_Score\u001b[39m\u001b[38;5;124m'\u001b[39m]\u001b[38;5;241m.\u001b[39mindex()\n",
      "\u001b[1;31mTypeError\u001b[0m: 'Int64Index' object is not callable"
     ]
    }
   ],
   "source": []
  },
  {
   "cell_type": "code",
   "execution_count": 126,
   "id": "b7888e35",
   "metadata": {},
   "outputs": [
    {
     "data": {
      "text/plain": [
       "0    Ubisoft\n",
       "Name: Developer, dtype: object"
      ]
     },
     "execution_count": 126,
     "metadata": {},
     "output_type": "execute_result"
    }
   ],
   "source": [
    "dev_mode = VDG_df['Developer'].mode()\n",
    "dev_mode"
   ]
  },
  {
   "cell_type": "code",
   "execution_count": 127,
   "id": "3ff6abe8",
   "metadata": {},
   "outputs": [
    {
     "data": {
      "text/plain": [
       "0    Electronic Arts\n",
       "Name: Publisher, dtype: object"
      ]
     },
     "execution_count": 127,
     "metadata": {},
     "output_type": "execute_result"
    }
   ],
   "source": [
    "pub_mode = VDG_df['Publisher'].mode()\n",
    "pub_mode"
   ]
  },
  {
   "cell_type": "code",
   "execution_count": 133,
   "id": "2826ea77",
   "metadata": {},
   "outputs": [],
   "source": [
    "VDG_df['Rating'] = VDG_df['Rating'].fillna(method= 'ffill')"
   ]
  },
  {
   "cell_type": "code",
   "execution_count": 134,
   "id": "f56541d7",
   "metadata": {},
   "outputs": [
    {
     "data": {
      "text/plain": [
       "0"
      ]
     },
     "execution_count": 134,
     "metadata": {},
     "output_type": "execute_result"
    }
   ],
   "source": [
    "VDG_df['Rating'].isna().sum()"
   ]
  },
  {
   "cell_type": "code",
   "execution_count": 140,
   "id": "b37082b3",
   "metadata": {},
   "outputs": [],
   "source": [
    "VDG_df['Developer'] = VDG_df['Developer'].fillna(method= 'ffill')\n",
    "VDG_df['Publisher'] = VDG_df['Publisher'].fillna(method= 'ffill')"
   ]
  },
  {
   "cell_type": "code",
   "execution_count": 142,
   "id": "e793262a",
   "metadata": {},
   "outputs": [],
   "source": [
    "VDG_df = VDG_df.dropna()"
   ]
  },
  {
   "cell_type": "code",
   "execution_count": 143,
   "id": "2e7bcf50",
   "metadata": {},
   "outputs": [
    {
     "name": "stdout",
     "output_type": "stream",
     "text": [
      "<class 'pandas.core.frame.DataFrame'>\n",
      "Int64Index: 16717 entries, 0 to 16718\n",
      "Data columns (total 16 columns):\n",
      " #   Column           Non-Null Count  Dtype  \n",
      "---  ------           --------------  -----  \n",
      " 0   Name             16717 non-null  object \n",
      " 1   Platform         16717 non-null  object \n",
      " 2   Year_of_Release  16717 non-null  int32  \n",
      " 3   Genre            16717 non-null  object \n",
      " 4   Publisher        16717 non-null  object \n",
      " 5   NA_Sales         16717 non-null  float64\n",
      " 6   EU_Sales         16717 non-null  float64\n",
      " 7   JP_Sales         16717 non-null  float64\n",
      " 8   Other_Sales      16717 non-null  float64\n",
      " 9   Global_Sales     16717 non-null  float64\n",
      " 10  Critic_Score     16717 non-null  float64\n",
      " 11  Critic_Count     16717 non-null  float64\n",
      " 12  User_Score       16717 non-null  object \n",
      " 13  User_Count       16717 non-null  float64\n",
      " 14  Developer        16717 non-null  object \n",
      " 15  Rating           16717 non-null  object \n",
      "dtypes: float64(8), int32(1), object(7)\n",
      "memory usage: 2.1+ MB\n"
     ]
    }
   ],
   "source": [
    "VDG_df.info()"
   ]
  },
  {
   "cell_type": "code",
   "execution_count": 150,
   "id": "10027449",
   "metadata": {},
   "outputs": [
    {
     "data": {
      "text/html": [
       "<div>\n",
       "<style scoped>\n",
       "    .dataframe tbody tr th:only-of-type {\n",
       "        vertical-align: middle;\n",
       "    }\n",
       "\n",
       "    .dataframe tbody tr th {\n",
       "        vertical-align: top;\n",
       "    }\n",
       "\n",
       "    .dataframe thead th {\n",
       "        text-align: right;\n",
       "    }\n",
       "</style>\n",
       "<table border=\"1\" class=\"dataframe\">\n",
       "  <thead>\n",
       "    <tr style=\"text-align: right;\">\n",
       "      <th></th>\n",
       "      <th>Year_of_Release</th>\n",
       "      <th>NA_Sales</th>\n",
       "      <th>EU_Sales</th>\n",
       "      <th>JP_Sales</th>\n",
       "      <th>Other_Sales</th>\n",
       "      <th>Global_Sales</th>\n",
       "      <th>Critic_Score</th>\n",
       "      <th>Critic_Count</th>\n",
       "      <th>User_Count</th>\n",
       "    </tr>\n",
       "  </thead>\n",
       "  <tbody>\n",
       "    <tr>\n",
       "      <th>count</th>\n",
       "      <td>16717.000000</td>\n",
       "      <td>16717.000000</td>\n",
       "      <td>16717.000000</td>\n",
       "      <td>16717.000000</td>\n",
       "      <td>16717.000000</td>\n",
       "      <td>16717.000000</td>\n",
       "      <td>16717.000000</td>\n",
       "      <td>16717.000000</td>\n",
       "      <td>16717.000000</td>\n",
       "    </tr>\n",
       "    <tr>\n",
       "      <th>mean</th>\n",
       "      <td>2006.481964</td>\n",
       "      <td>0.263255</td>\n",
       "      <td>0.145010</td>\n",
       "      <td>0.077610</td>\n",
       "      <td>0.047333</td>\n",
       "      <td>0.533462</td>\n",
       "      <td>68.968870</td>\n",
       "      <td>26.360400</td>\n",
       "      <td>162.229958</td>\n",
       "    </tr>\n",
       "    <tr>\n",
       "      <th>std</th>\n",
       "      <td>5.894085</td>\n",
       "      <td>0.813475</td>\n",
       "      <td>0.503303</td>\n",
       "      <td>0.308836</td>\n",
       "      <td>0.186721</td>\n",
       "      <td>1.547956</td>\n",
       "      <td>9.723998</td>\n",
       "      <td>13.241794</td>\n",
       "      <td>378.187754</td>\n",
       "    </tr>\n",
       "    <tr>\n",
       "      <th>min</th>\n",
       "      <td>1980.000000</td>\n",
       "      <td>0.000000</td>\n",
       "      <td>0.000000</td>\n",
       "      <td>0.000000</td>\n",
       "      <td>0.000000</td>\n",
       "      <td>0.010000</td>\n",
       "      <td>13.000000</td>\n",
       "      <td>3.000000</td>\n",
       "      <td>4.000000</td>\n",
       "    </tr>\n",
       "    <tr>\n",
       "      <th>25%</th>\n",
       "      <td>2003.000000</td>\n",
       "      <td>0.000000</td>\n",
       "      <td>0.000000</td>\n",
       "      <td>0.000000</td>\n",
       "      <td>0.000000</td>\n",
       "      <td>0.060000</td>\n",
       "      <td>68.970000</td>\n",
       "      <td>22.000000</td>\n",
       "      <td>30.000000</td>\n",
       "    </tr>\n",
       "    <tr>\n",
       "      <th>50%</th>\n",
       "      <td>2007.000000</td>\n",
       "      <td>0.080000</td>\n",
       "      <td>0.020000</td>\n",
       "      <td>0.000000</td>\n",
       "      <td>0.010000</td>\n",
       "      <td>0.170000</td>\n",
       "      <td>68.970000</td>\n",
       "      <td>26.360000</td>\n",
       "      <td>162.230000</td>\n",
       "    </tr>\n",
       "    <tr>\n",
       "      <th>75%</th>\n",
       "      <td>2010.000000</td>\n",
       "      <td>0.240000</td>\n",
       "      <td>0.110000</td>\n",
       "      <td>0.040000</td>\n",
       "      <td>0.030000</td>\n",
       "      <td>0.470000</td>\n",
       "      <td>70.000000</td>\n",
       "      <td>26.360000</td>\n",
       "      <td>162.230000</td>\n",
       "    </tr>\n",
       "    <tr>\n",
       "      <th>max</th>\n",
       "      <td>2020.000000</td>\n",
       "      <td>41.360000</td>\n",
       "      <td>28.960000</td>\n",
       "      <td>10.220000</td>\n",
       "      <td>10.570000</td>\n",
       "      <td>82.530000</td>\n",
       "      <td>98.000000</td>\n",
       "      <td>113.000000</td>\n",
       "      <td>10665.000000</td>\n",
       "    </tr>\n",
       "  </tbody>\n",
       "</table>\n",
       "</div>"
      ],
      "text/plain": [
       "       Year_of_Release      NA_Sales      EU_Sales      JP_Sales  \\\n",
       "count     16717.000000  16717.000000  16717.000000  16717.000000   \n",
       "mean       2006.481964      0.263255      0.145010      0.077610   \n",
       "std           5.894085      0.813475      0.503303      0.308836   \n",
       "min        1980.000000      0.000000      0.000000      0.000000   \n",
       "25%        2003.000000      0.000000      0.000000      0.000000   \n",
       "50%        2007.000000      0.080000      0.020000      0.000000   \n",
       "75%        2010.000000      0.240000      0.110000      0.040000   \n",
       "max        2020.000000     41.360000     28.960000     10.220000   \n",
       "\n",
       "        Other_Sales  Global_Sales  Critic_Score  Critic_Count    User_Count  \n",
       "count  16717.000000  16717.000000  16717.000000  16717.000000  16717.000000  \n",
       "mean       0.047333      0.533462     68.968870     26.360400    162.229958  \n",
       "std        0.186721      1.547956      9.723998     13.241794    378.187754  \n",
       "min        0.000000      0.010000     13.000000      3.000000      4.000000  \n",
       "25%        0.000000      0.060000     68.970000     22.000000     30.000000  \n",
       "50%        0.010000      0.170000     68.970000     26.360000    162.230000  \n",
       "75%        0.030000      0.470000     70.000000     26.360000    162.230000  \n",
       "max       10.570000     82.530000     98.000000    113.000000  10665.000000  "
      ]
     },
     "execution_count": 150,
     "metadata": {},
     "output_type": "execute_result"
    }
   ],
   "source": [
    "# descriptive statistics\n",
    "VDG_df.describe()"
   ]
  },
  {
   "cell_type": "code",
   "execution_count": 151,
   "id": "975f4f7f",
   "metadata": {},
   "outputs": [
    {
     "data": {
      "text/plain": [
       "0.2009737041336869"
      ]
     },
     "execution_count": 151,
     "metadata": {},
     "output_type": "execute_result"
    }
   ],
   "source": [
    "# correlation of Global sales to crit score\n",
    "VDG_df['Global_Sales'].corr(VDG_df['Critic_Score'])"
   ]
  },
  {
   "cell_type": "code",
   "execution_count": 152,
   "id": "f8d669f8",
   "metadata": {},
   "outputs": [
    {
     "data": {
      "text/plain": [
       "0.24855940037157281"
      ]
     },
     "execution_count": 152,
     "metadata": {},
     "output_type": "execute_result"
    }
   ],
   "source": [
    "VDG_df['Global_Sales'].corr(VDG_df['Critic_Count'])"
   ]
  },
  {
   "cell_type": "code",
   "execution_count": 153,
   "id": "e3ce6c49",
   "metadata": {},
   "outputs": [
    {
     "data": {
      "text/plain": [
       "0.21636455713121522"
      ]
     },
     "execution_count": 153,
     "metadata": {},
     "output_type": "execute_result"
    }
   ],
   "source": [
    "VDG_df['Global_Sales'].corr(VDG_df['User_Count'])"
   ]
  },
  {
   "cell_type": "code",
   "execution_count": 154,
   "id": "ea49e973",
   "metadata": {},
   "outputs": [
    {
     "data": {
      "text/plain": [
       "-0.981699336807323"
      ]
     },
     "execution_count": 154,
     "metadata": {},
     "output_type": "execute_result"
    }
   ],
   "source": [
    "VDG_df['Year_of_Release'].skew()"
   ]
  },
  {
   "cell_type": "code",
   "execution_count": 155,
   "id": "d1769e1d",
   "metadata": {},
   "outputs": [
    {
     "data": {
      "text/plain": [
       "17.379414082230095"
      ]
     },
     "execution_count": 155,
     "metadata": {},
     "output_type": "execute_result"
    }
   ],
   "source": [
    "VDG_df['Global_Sales'].skew()"
   ]
  },
  {
   "cell_type": "code",
   "execution_count": 156,
   "id": "f8e426e4",
   "metadata": {},
   "outputs": [
    {
     "data": {
      "text/plain": [
       "-0.8798436049218444"
      ]
     },
     "execution_count": 156,
     "metadata": {},
     "output_type": "execute_result"
    }
   ],
   "source": [
    "VDG_df['Critic_Score'].skew()"
   ]
  },
  {
   "cell_type": "code",
   "execution_count": 157,
   "id": "ee1a9b4d",
   "metadata": {},
   "outputs": [
    {
     "data": {
      "text/plain": [
       "13.404646879022552"
      ]
     },
     "execution_count": 157,
     "metadata": {},
     "output_type": "execute_result"
    }
   ],
   "source": [
    "VDG_df['User_Count'].skew()"
   ]
  },
  {
   "cell_type": "code",
   "execution_count": 159,
   "id": "7ab2c373",
   "metadata": {},
   "outputs": [
    {
     "data": {
      "text/plain": [
       "-0.07566650858202303"
      ]
     },
     "execution_count": 159,
     "metadata": {},
     "output_type": "execute_result"
    }
   ],
   "source": [
    "VDG_df['Global_Sales'].corr(VDG_df['Year_of_Release'])"
   ]
  },
  {
   "cell_type": "code",
   "execution_count": null,
   "id": "08bd668b",
   "metadata": {},
   "outputs": [],
   "source": [
    "# Graphical information\n"
   ]
  },
  {
   "cell_type": "code",
   "execution_count": 158,
   "id": "cbe1c695",
   "metadata": {},
   "outputs": [
    {
     "data": {
      "image/png": "[encoded data removed]",
      "text/plain": [
       "<Figure size 640x480 with 1 Axes>"
      ]
     },
     "metadata": {},
     "output_type": "display_data"
    }
   ],
   "source": [
    "plt.scatter(x = 'Year_of_Release', y ='Global_Sales',data =  VDG_df)\n",
    "plt.show()"
   ]
  },
  {
   "cell_type": "code",
   "execution_count": 160,
   "id": "c37dd434",
   "metadata": {},
   "outputs": [
    {
     "data": {
      "image/png": "[encoded data removed]",
      "text/plain": [
       "<Figure size 640x480 with 1 Axes>"
      ]
     },
     "metadata": {},
     "output_type": "display_data"
    }
   ],
   "source": [
    "plt.bar(x = 'Rating', height ='Global_Sales',data =  VDG_df)\n",
    "plt.show()"
   ]
  },
  {
   "cell_type": "code",
   "execution_count": 162,
   "id": "66f7555e",
   "metadata": {},
   "outputs": [
    {
     "data": {
      "text/plain": [
       "(array([1.5621e+04, 6.8800e+02, 1.9800e+02, 8.6000e+01, 4.3000e+01,\n",
       "        1.9000e+01, 1.3000e+01, 1.1000e+01, 9.0000e+00, 6.0000e+00,\n",
       "        2.0000e+00, 1.0000e+00, 4.0000e+00, 4.0000e+00, 2.0000e+00,\n",
       "        0.0000e+00, 0.0000e+00, 3.0000e+00, 2.0000e+00, 2.0000e+00,\n",
       "        0.0000e+00, 1.0000e+00, 0.0000e+00, 0.0000e+00, 1.0000e+00,\n",
       "        0.0000e+00, 0.0000e+00, 0.0000e+00, 0.0000e+00, 0.0000e+00,\n",
       "        0.0000e+00, 0.0000e+00, 0.0000e+00, 0.0000e+00, 0.0000e+00,\n",
       "        0.0000e+00, 0.0000e+00, 0.0000e+00, 0.0000e+00, 0.0000e+00,\n",
       "        0.0000e+00, 0.0000e+00, 0.0000e+00, 0.0000e+00, 0.0000e+00,\n",
       "        0.0000e+00, 0.0000e+00, 0.0000e+00, 0.0000e+00, 1.0000e+00]),\n",
       " array([1.00000e-02, 1.66040e+00, 3.31080e+00, 4.96120e+00, 6.61160e+00,\n",
       "        8.26200e+00, 9.91240e+00, 1.15628e+01, 1.32132e+01, 1.48636e+01,\n",
       "        1.65140e+01, 1.81644e+01, 1.98148e+01, 2.14652e+01, 2.31156e+01,\n",
       "        2.47660e+01, 2.64164e+01, 2.80668e+01, 2.97172e+01, 3.13676e+01,\n",
       "        3.30180e+01, 3.46684e+01, 3.63188e+01, 3.79692e+01, 3.96196e+01,\n",
       "        4.12700e+01, 4.29204e+01, 4.45708e+01, 4.62212e+01, 4.78716e+01,\n",
       "        4.95220e+01, 5.11724e+01, 5.28228e+01, 5.44732e+01, 5.61236e+01,\n",
       "        5.77740e+01, 5.94244e+01, 6.10748e+01, 6.27252e+01, 6.43756e+01,\n",
       "        6.60260e+01, 6.76764e+01, 6.93268e+01, 7.09772e+01, 7.26276e+01,\n",
       "        7.42780e+01, 7.59284e+01, 7.75788e+01, 7.92292e+01, 8.08796e+01,\n",
       "        8.25300e+01]),\n",
       " <BarContainer object of 50 artists>)"
      ]
     },
     "execution_count": 162,
     "metadata": {},
     "output_type": "execute_result"
    },
    {
     "data": {
      "image/png": "[encoded data removed]",
      "text/plain": [
       "<Figure size 640x480 with 1 Axes>"
      ]
     },
     "metadata": {},
     "output_type": "display_data"
    }
   ],
   "source": [
    "plt.hist(VDG_df['Global_Sales'],bins = 50)"
   ]
  },
  {
   "cell_type": "code",
   "execution_count": 163,
   "id": "03512fa1",
   "metadata": {},
   "outputs": [],
   "source": [
    "import seaborn as sns"
   ]
  },
  {
   "cell_type": "code",
   "execution_count": 165,
   "id": "4619947e",
   "metadata": {},
   "outputs": [
    {
     "data": {
      "text/plain": [
       "<Axes: >"
      ]
     },
     "execution_count": 165,
     "metadata": {},
     "output_type": "execute_result"
    },
    {
     "data": {
      "image/png": "[encoded data removed]",
      "text/plain": [
       "<Figure size 640x480 with 2 Axes>"
      ]
     },
     "metadata": {},
     "output_type": "display_data"
    }
   ],
   "source": [
    "sns.heatmap(VDG_df[[\"Year_of_Release\",\"NA_Sales\",\"EU_Sales\",\"JP_Sales\",\"Other_Sales\",\"Global_Sales\",\"Critic_Score\",\"Critic_Count\",\"User_Count\"]])"
   ]
  },
  {
   "cell_type": "code",
   "execution_count": null,
   "id": "897a7605",
   "metadata": {},
   "outputs": [],
   "source": []
  }
 ],
 "metadata": {
  "kernelspec": {
   "display_name": "Python 3 (ipykernel)",
   "language": "python",
   "name": "python3"
  },
  "language_info": {
   "codemirror_mode": {
    "name": "ipython",
    "version": 3
   },
   "file_extension": ".py",
   "mimetype": "text/x-python",
   "name": "python",
   "nbconvert_exporter": "python",
   "pygments_lexer": "ipython3",
   "version": "3.11.4"
  }
 },
 "nbformat": 4,
 "nbformat_minor": 5
}
